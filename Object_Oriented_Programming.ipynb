{
 "cells": [
  {
   "cell_type": "markdown",
   "id": "b86c4fb0",
   "metadata": {},
   "source": [
    "# Object Oriented Programming (OOP)"
   ]
  },
  {
   "cell_type": "markdown",
   "id": "6b4031c9",
   "metadata": {},
   "source": [
    "## Table of Content (ToW)\n",
    "\n",
    "1. [Chapter 0 - Definitions](#ch0)\n",
    "1. [Chapter 1 - Code OOP Snippet](#ch1)\n",
    "1. [Chapter 2 - Instance Variables](#ch2)\n",
    "1. [Chapter 3 - Class Variables](#ch3)\n",
    "1. [Chapter 4 - Regular Methods vs Class Methods vs Static Methods](#ch4)\n",
    "1. [Chapter 5 - Inheritance](#ch5)\n",
    "1. [Chapter 6 - Magic/Dunder methods](#ch6)\n",
    "1. [Chapter 7 - Property Decorators - Getters, Setters, and Deleters](#ch7)"
   ]
  },
  {
   "cell_type": "markdown",
   "id": "e0f0e094",
   "metadata": {},
   "source": [
    "<a id=\"ch0\"></a>\n",
    "# Definitions"
   ]
  },
  {
   "cell_type": "markdown",
   "id": "0706c11f",
   "metadata": {},
   "source": [
    "### VARIABLES\n",
    "\n",
    "- **Instance Variables**: Objects of a class. Used with the 'self' argument ('self' is used by convention). The difference between instance variables and class variables is that:\n",
    "    - Instance Variables: Can be unique for each instance.\n",
    "    - Class Variables: Shared among all the instance of a class.\n",
    "    \n",
    "- **Class Variables**: Variables that are shared among all instances of a class. For example \"raise_amount\" class variable.\n",
    "    ````\n",
    "    class employee:\n",
    "\n",
    "        raise_amount = 1.04\n",
    "    ````\n",
    "\n",
    "- **Attribute**: As an attribute, it doesnt end in (). Attributes are characteristics of an object while methods are operations of an object. For example, in the __init__ method \"first, last and pay\" are characteristics (attibutes) of the object employee. To call the attribute of a created object (with a method), we include the object.attribute\n",
    "````\n",
    "    def __init__(self,first,last,pay):\n",
    "        self.first = first\n",
    "        self.last = last\n",
    "        self.pay = pay\n",
    "        self.email = first +'.'+last+'@company.com'\n",
    "\n",
    "        employee.num_of_emp += 1\n",
    "\n",
    "    emp_1 = employee('Miguel','Frutos',6000)\n",
    "    \n",
    "    print(emp_1.pay)\n",
    "    print(emp_1.last)\n",
    "    print(emp_1.first)\n",
    " ````\n",
    "\n",
    "### METHODS & DECORATORS\n",
    "\n",
    "**Method**: Funtion associated with a class. As a function, it ends in (). For example \"__init__\" method.\n",
    "\n",
    "- **Regular Methods**: Automatically take the instance as the first argument (by convention \"self\")\n",
    "````\n",
    "    def full_name(self):\n",
    "        return '{} {}'.format(self.first,self.last)\n",
    "````\n",
    "\n",
    "- **Class Methods**: Using decorators we avoid the regular method. We receive the Class (by convention called \"cls\") as the first argument instead of the \"self\" instance. We are working from the class, instead of from the instance.\n",
    "\n",
    "````\n",
    "    @classmethod\n",
    "    def set_raise_amt(cls,amount):\n",
    "        cls.raise_amount = amount\n",
    "````\n",
    "\n",
    "- **Alternative Constructors**: Class methods to provide multiple ways of creating our objects\n",
    "    - We use the \"from\" by convention.\n",
    "    - Include the operation to be contruct.\n",
    "    - Add the cls to create the employee object ---> cls(first,last,pay) == employee(first,last,pay)\n",
    "    - Return the object\n",
    "\n",
    "    ````\n",
    "    @classmethod\n",
    "    def from_string(cls,emp_str):\n",
    "        first, last, pay = emp_str.split('-')\n",
    "        return cls(first,last,pay)\n",
    "    `````\n",
    "\n",
    "- **Static Methods**: In static methods we dont pass anything as an argument (not the instace \"self\" nor the class \"cls\"). They behave like regular functions but we include them because they have some logical connection with the class\n",
    "\n",
    "````\n",
    "    @staticmethod\n",
    "    def is_workday(day):\n",
    "        if day.weekday() == 5 or day.weekday() == 6:\n",
    "            return False\n",
    "        return True\n",
    "````\n",
    "\n",
    "- **Property Decorators**: Enables accesing to a method as it was an attribute, this is import when we need to make several changes over one variable. Reminder, method() with parenthesis and attribute without parenthesis.\n",
    "\n",
    "    ````\n",
    "    @property\n",
    "    def email(self):\n",
    "        return '{}.{}email.com'.format(self.first,self.last)\n",
    "    ````\n",
    "\n",
    "\n",
    "- **Special Magic/Dunder methods**:\n",
    "\n",
    "    __init__: It is called the CONSTRUCTOR because it Creates the attributes for our employee object.\n",
    "\n",
    "    ````\n",
    "    def __init__(self,first,last,pay):\n",
    "        self.first = first\n",
    "        self.last = last\n",
    "        self.pay = pay\n",
    "        self.email = first +'.'+last+'@company.com'\n",
    "\n",
    "        employee.num_of_emp += 1\n",
    "\n",
    "    emp_1 = employee('Miguel','Frutos',6000)\n",
    "    ````\n",
    "\n",
    "    __repr__(self): Ambiguos representation of the employee object. Used for debugging and logging. We should use it with the objective of recreating that same object. For example with a string.\n",
    "\n",
    "    `````\n",
    "    def __repr__(self):\n",
    "        return \"employee('{}','{}',{})\".format(self.first,self.last,self.pay)\n",
    "    `````\n",
    "\n",
    "    __str__(self): Readable representation of an object. A display to the end-user\n",
    "\n",
    "    `````\n",
    "    def __str__(self):\n",
    "        return '{} - {}'.format(self.full_name(),self.email)\n",
    "    `````\n",
    "\n",
    "    __add__(self): Used for arithmetic. To change a python standard logic when adding two string (concatenation) or adding two numbers (sum).\n",
    "\n",
    "    `````\n",
    "    def __add__(self,other):\n",
    "        return self.pay + other.pay\n",
    "    `````\n",
    "\n",
    "    __len__(self):Used for arithmetic. To change how we use the len function.\n",
    "    `````\n",
    "    def __len__(self):\n",
    "        return len(self.full_name())\n",
    "    `````\n",
    "\n",
    "Many more in the [documentation](https://docs.python.org/3/reference/datamodel.html#object.__iter__)\n",
    "\n",
    "\n",
    "\n",
    "    \n",
    "- **Inheritance**: Allow us to inherit attributes and methods from a parent class, this is usefull to create subclasses and get all the functionality of our parent class. We use the super().__init__() method to inherit the instances of the employee class\n",
    "    ```\n",
    "    class managers(employee):\n",
    "        def __init__(self,first,last,pay,employees=None):\n",
    "            super().__init__(first,last,pay)\n",
    "            if employees is None:\n",
    "                self.employees = []\n",
    "            else:\n",
    "                self.employees = employees\n",
    "\n",
    "        def add_emp(self,emp):\n",
    "            if emp not in self.employees:\n",
    "                self.employees.append(emp)\n",
    "    ```\n",
    "\n",
    "\n",
    "\n"
   ]
  },
  {
   "cell_type": "markdown",
   "id": "eb1304b8",
   "metadata": {},
   "source": [
    "<a id=\"ch1\"></a>\n",
    "# Code OOP Snippet"
   ]
  },
  {
   "cell_type": "code",
   "execution_count": 57,
   "id": "273a9eba",
   "metadata": {},
   "outputs": [],
   "source": [
    "class employee:\n",
    "    \n",
    "    num_of_emp = 0\n",
    "    raise_amount = 1.04\n",
    "    \n",
    "    def __init__(self,first,last,pay):\n",
    "        self.first = first\n",
    "        self.last = last\n",
    "        self.pay = pay\n",
    "        #self.email = first +'.'+last+'@company.com'\n",
    "        \n",
    "        employee.num_of_emp += 1\n",
    "    \n",
    "    def __repr__(self):\n",
    "        return \"employee('{}','{}',{})\".format(self.first,self.last,self.pay)\n",
    "\n",
    "    def __str__(self):\n",
    "        return '{} - {}'.format(self.full_name(),self.email)\n",
    "        \n",
    "    def __add__(self,other):\n",
    "        return self.pay + other.pay\n",
    "    \n",
    "    def __len__(self):\n",
    "        return len(self.full_name())\n",
    "    \n",
    "    @property\n",
    "    def email(self):\n",
    "        return '{}.{}email.com'.format(self.first,self.last)\n",
    "    \n",
    "    @email.setter\n",
    "    def email(self,name):\n",
    "        first,other = name.split('.',1)\n",
    "        last,other = other.split('@')\n",
    "        self.first = first\n",
    "        self.last = last\n",
    "    \n",
    "    @email.deleter\n",
    "    def email(self):\n",
    "        print(\"Delete Name!\")\n",
    "        self.first = None\n",
    "        self.last = None \n",
    "    \n",
    "    def full_name(self):\n",
    "        return '{} {}'.format(self.first,self.last)\n",
    "    \n",
    "    def apply_raise_without_class_var(self):\n",
    "        self.pay = int(self.pay*1.04)\n",
    "    \n",
    "    def apply_raise_with_class_var_class(self):\n",
    "        self.pay = int(self.pay* employee.raise_amount)\n",
    "        \n",
    "    def apply_raise_with_class_var_inst(self):\n",
    "        self.pay = int(self.pay* self.raise_amount)\n",
    "        \n",
    "    @classmethod\n",
    "    def set_raise_amt(cls,amount):\n",
    "        cls.raise_amount = amount\n",
    "        \n",
    "    @classmethod\n",
    "    def from_string(cls,emp_str):\n",
    "        first, last, pay = emp_str.split('-')\n",
    "        return cls(first,last,pay)\n",
    "    \n",
    "    @staticmethod\n",
    "    def is_workday(day):\n",
    "        if day.weekday() == 5 or day.weekday() == 6:\n",
    "            return False\n",
    "        return True\n",
    "    \n",
    "class developers(employee):\n",
    "    raise_amount = 2\n",
    "    \n",
    "    def __init__(self,first,last,pay,programming_language):\n",
    "        super().__init__(first,last,pay)\n",
    "        self.programming_language = programming_language\n",
    "        \n",
    "class managers(employee):\n",
    "    def __init__(self,first,last,pay,employees=None):\n",
    "        super().__init__(first,last,pay)\n",
    "        if employees is None:\n",
    "            self.employees = []\n",
    "        else:\n",
    "            self.employees = employees\n",
    "    \n",
    "    def add_emp(self,emp):\n",
    "        if emp not in self.employees:\n",
    "            self.employees.append(emp)\n",
    "    \n",
    "    def remove_emp(self,emp):\n",
    "        if emp in self.employees:\n",
    "            self.employees.remove(emp)\n",
    "        \n",
    "    def print_emps(self):\n",
    "        for emp in self.employees:\n",
    "            print('-->',emp.full_name())"
   ]
  },
  {
   "cell_type": "markdown",
   "id": "bf011774",
   "metadata": {},
   "source": [
    "<a id=\"ch2\"></a>\n",
    "# Instance Variables"
   ]
  },
  {
   "cell_type": "markdown",
   "id": "64e5396f",
   "metadata": {},
   "source": [
    "- Instance Variables: Objects of a class. Used with the 'self' argument ('self' is used by convention). The difference between instance variables and class variables is that:\n",
    "    - Instance Variables: Can be unique for each instance.\n",
    "    - Class Variables: Shared among all the instance of a class.\n",
    "    \n",
    "- How do we call an instance variable:\n",
    "    - employee.full_name(emp_1): class + method + variable\n",
    "    - emp_1.full_name()): variable + method"
   ]
  },
  {
   "cell_type": "code",
   "execution_count": 58,
   "id": "04556131",
   "metadata": {},
   "outputs": [],
   "source": [
    "class employee:\n",
    "    \n",
    "    raise_amount = 1.04\n",
    "    \n",
    "    def __init__(self,first,last,pay):\n",
    "        self.first = first\n",
    "        self.last = last\n",
    "        self.pay = pay\n",
    "        self.email = first +'.'+last+'@company.com'\n",
    "        \n",
    "    def full_name(self):\n",
    "        return '{} {}'.format(self.first,self.last)"
   ]
  },
  {
   "cell_type": "code",
   "execution_count": 59,
   "id": "24a90b59",
   "metadata": {},
   "outputs": [],
   "source": [
    "# We need to instantiate the class\n",
    "\n",
    "emp_1 = employee('Miguel','Frutos',6000)\n",
    "emp_2 = employee('alfonso','maquina',2345)"
   ]
  },
  {
   "cell_type": "code",
   "execution_count": 92,
   "id": "04676f5c",
   "metadata": {},
   "outputs": [
    {
     "name": "stdout",
     "output_type": "stream",
     "text": [
      "alfonso maquina\n",
      "alfonso maquina\n"
     ]
    }
   ],
   "source": [
    "print(emp_2.full_name())\n",
    "print(employee.full_name(emp_2))"
   ]
  },
  {
   "cell_type": "markdown",
   "id": "9b597160",
   "metadata": {},
   "source": [
    "<a id=\"ch3\"></a>\n",
    "# Class Variables"
   ]
  },
  {
   "cell_type": "markdown",
   "id": "d4c163f4",
   "metadata": {},
   "source": [
    "- Class Variables: Variables that are shared among all instances of a class. For example \"raise_amount\" class variable. To access it, you need to access it we can call it in two forms:\n",
    "    - self.raise_amount: Instance of a class (instance + variable)\n",
    "    - employee.raise_amount: Class itself (class + variable)"
   ]
  },
  {
   "cell_type": "code",
   "execution_count": 97,
   "id": "b00d6081",
   "metadata": {},
   "outputs": [],
   "source": [
    "class employee:\n",
    "    \n",
    "    num_of_emp = 0\n",
    "    raise_amount = 1.04\n",
    "    \n",
    "    def __init__(self,first,last,pay):\n",
    "        self.first = first\n",
    "        self.last = last\n",
    "        self.pay = pay\n",
    "        self.email = first +'.'+last+'@company.com'\n",
    "        \n",
    "        employee.num_of_emp += 1\n",
    "        \n",
    "    def full_name(self):\n",
    "        return '{} {}'.format(self.first,self.last)\n",
    "    \n",
    "    def apply_raise_without_class_var(self):\n",
    "        self.pay = int(self.pay*1.04)\n",
    "    \n",
    "    def apply_raise_with_class_var_class(self):\n",
    "        self.pay = int(self.pay* employee.raise_amount)\n",
    "        \n",
    "    def apply_raise_with_class_var_inst(self):\n",
    "        self.pay = int(self.pay* self.raise_amount)"
   ]
  },
  {
   "cell_type": "code",
   "execution_count": 86,
   "id": "96181bc3",
   "metadata": {},
   "outputs": [],
   "source": [
    "# We need to instantiate the class\n",
    "\n",
    "emp_1 = employee('Miguel','Frutos',6000)\n",
    "emp_2 = employee('alfonso','maquina',2345)"
   ]
  },
  {
   "cell_type": "code",
   "execution_count": 74,
   "id": "ee239b21",
   "metadata": {},
   "outputs": [
    {
     "name": "stdout",
     "output_type": "stream",
     "text": [
      "6000\n",
      "6240\n"
     ]
    }
   ],
   "source": [
    "#Without class var\n",
    "\n",
    "print(emp_1.pay)\n",
    "emp_1.apply_raise_without_class_var()\n",
    "print(emp_1.pay)"
   ]
  },
  {
   "cell_type": "code",
   "execution_count": 75,
   "id": "436673d5",
   "metadata": {},
   "outputs": [
    {
     "name": "stdout",
     "output_type": "stream",
     "text": [
      "6240\n",
      "6489\n"
     ]
    }
   ],
   "source": [
    "# With class var and the class itself\n",
    "\n",
    "print(emp_1.pay)\n",
    "emp_1.apply_raise_with_class_var_class()\n",
    "print(emp_1.pay)"
   ]
  },
  {
   "cell_type": "code",
   "execution_count": 76,
   "id": "07b3b70b",
   "metadata": {},
   "outputs": [
    {
     "name": "stdout",
     "output_type": "stream",
     "text": [
      "6489\n",
      "6748\n"
     ]
    }
   ],
   "source": [
    "# With class var and the instance\n",
    "\n",
    "print(emp_1.pay)\n",
    "emp_1.apply_raise_with_class_var_inst()\n",
    "print(emp_1.pay)"
   ]
  },
  {
   "cell_type": "markdown",
   "id": "02438b26",
   "metadata": {},
   "source": [
    "**CONCEPT**: If we use the class_var_inst \"self.raise\"... The variables assigned to a namespace will be looked before the ones inside the class. This is interesting **to allow variations from the standard value of a class instance.**"
   ]
  },
  {
   "cell_type": "code",
   "execution_count": 78,
   "id": "894278c0",
   "metadata": {},
   "outputs": [
    {
     "name": "stdout",
     "output_type": "stream",
     "text": [
      "{'first': 'Miguel', 'last': 'Frutos', 'pay': 7017, 'email': 'Miguel.Frutos@company.com'}\n"
     ]
    }
   ],
   "source": [
    "# Check the namespace in a dict fashion \n",
    "\n",
    "print(emp_l.__dict__)"
   ]
  },
  {
   "cell_type": "code",
   "execution_count": 79,
   "id": "00569b03",
   "metadata": {},
   "outputs": [
    {
     "name": "stdout",
     "output_type": "stream",
     "text": [
      "{'__module__': '__main__', 'raise_amount': 1.04, '__init__': <function employee.__init__ at 0x7fccbe5f0d30>, 'full_name': <function employee.full_name at 0x7fccbe6228b0>, 'apply_raise_without_class_var': <function employee.apply_raise_without_class_var at 0x7fccbe65b5e0>, 'apply_raise_with_class_var_class': <function employee.apply_raise_with_class_var_class at 0x7fccbe65b040>, 'apply_raise_with_class_var_inst': <function employee.apply_raise_with_class_var_inst at 0x7fccbe65bdc0>, '__dict__': <attribute '__dict__' of 'employee' objects>, '__weakref__': <attribute '__weakref__' of 'employee' objects>, '__doc__': None}\n"
     ]
    }
   ],
   "source": [
    "# Check the class in a dict fashion (we can see the 'raise_amount': 1.04)\n",
    "\n",
    "print(employee.__dict__)"
   ]
  },
  {
   "cell_type": "code",
   "execution_count": 80,
   "id": "5f0c283f",
   "metadata": {},
   "outputs": [
    {
     "name": "stdout",
     "output_type": "stream",
     "text": [
      "1.04\n",
      "1.04\n",
      "1.04\n"
     ]
    }
   ],
   "source": [
    "# Check the class variable\n",
    "\n",
    "print(employee.raise_amount)\n",
    "print(emp_1.raise_amount)\n",
    "print(emp_2.raise_amount)"
   ]
  },
  {
   "cell_type": "code",
   "execution_count": 81,
   "id": "b16db994",
   "metadata": {},
   "outputs": [
    {
     "name": "stdout",
     "output_type": "stream",
     "text": [
      "1.05\n",
      "1.05\n",
      "1.05\n"
     ]
    }
   ],
   "source": [
    "# Change the class variable\n",
    "\n",
    "employee.raise_amount = 1.05\n",
    "\n",
    "print(employee.raise_amount)\n",
    "print(emp_1.raise_amount)\n",
    "print(emp_2.raise_amount)"
   ]
  },
  {
   "cell_type": "code",
   "execution_count": 89,
   "id": "6cff0ec9",
   "metadata": {},
   "outputs": [
    {
     "name": "stdout",
     "output_type": "stream",
     "text": [
      "1.05\n",
      "1.08\n",
      "1.05\n"
     ]
    }
   ],
   "source": [
    "# Change it for a single namespace\n",
    "\n",
    "emp_1.raise_amount = 1.08\n",
    "\n",
    "print(employee.raise_amount)\n",
    "print(emp_1.raise_amount)\n",
    "print(emp_2.raise_amount)"
   ]
  },
  {
   "cell_type": "code",
   "execution_count": 90,
   "id": "a3b6489b",
   "metadata": {},
   "outputs": [
    {
     "name": "stdout",
     "output_type": "stream",
     "text": [
      "{'first': 'Miguel', 'last': 'Frutos', 'pay': 6000, 'email': 'Miguel.Frutos@company.com', 'raise_amount': 1.08}\n"
     ]
    }
   ],
   "source": [
    "# Check the namespace in a dict fashion (we can see the 'raise_amount': 1.04)\n",
    "\n",
    "print(emp_1.__dict__)"
   ]
  },
  {
   "cell_type": "markdown",
   "id": "b02d3bd7",
   "metadata": {},
   "source": [
    "#### COUNTER in the __INIT__ method\n",
    "\n",
    "Everytime we instantiate the class it will add another value"
   ]
  },
  {
   "cell_type": "markdown",
   "id": "75eeb7f5",
   "metadata": {},
   "source": [
    "\n",
    "\n",
    "class employee:\n",
    "    \n",
    "    num_of_emp = 0\n",
    "    raise_amount = 1.04\n",
    "    \n",
    "    def __init__(self,first,last,pay):\n",
    "        self.first = first\n",
    "        self.last = last\n",
    "        self.pay = pay\n",
    "        self.email = first +'.'+last+'@company.com'\n",
    "        \n",
    "        employee.num_of_emp += 1"
   ]
  },
  {
   "cell_type": "code",
   "execution_count": 98,
   "id": "50d54d74",
   "metadata": {},
   "outputs": [
    {
     "name": "stdout",
     "output_type": "stream",
     "text": [
      "0\n",
      "2\n"
     ]
    }
   ],
   "source": [
    "print(employee.num_of_emp)\n",
    "\n",
    "emp_1 = employee('Miguel','Frutos',6000)\n",
    "emp_2 = employee('alfonso','maquina',2345)\n",
    "\n",
    "print(employee.num_of_emp)"
   ]
  },
  {
   "cell_type": "markdown",
   "id": "defb9ac8",
   "metadata": {},
   "source": [
    "<a id=\"ch4\"></a>\n",
    "# Regular Methods vs Classmethods vs Staticmethods"
   ]
  },
  {
   "cell_type": "markdown",
   "id": "44560c3e",
   "metadata": {},
   "source": [
    "- Regular Methods: Automatically take the instance as the first argument (by convention \"self\")\n",
    "````\n",
    "    def full_name(self):\n",
    "        return '{} {}'.format(self.first,self.last)\n",
    "````\n",
    "- Class Methods: Using decorators we avoid the regular method. We receive the Class (by convention called \"cls\") as the first argument instead of the \"self\" instance. We are working from the class, instead of from the instance.\n",
    "\n",
    "````\n",
    "    @classmethod\n",
    "    def set_raise_amt(cls,amount):\n",
    "        cls.raise_amount = amount\n",
    "````\n",
    "- Static Methods: In static methods we dont pass anything as an argument (not the instace \"self\" nor the class \"cls\"). They behave like regular functions but we include them because they have some logical connection with the class\n",
    "\n",
    "````\n",
    "    @staticmethod\n",
    "    def is_workday(day):\n",
    "        if day.weekday() == 5 or day.weekday() == 6:\n",
    "            return False\n",
    "        return True\n",
    "````"
   ]
  },
  {
   "cell_type": "code",
   "execution_count": 144,
   "id": "94b356a0",
   "metadata": {},
   "outputs": [],
   "source": [
    "class employee:\n",
    "    \n",
    "    num_of_emp = 0\n",
    "    raise_amount = 1.04\n",
    "    \n",
    "    def __init__(self,first,last,pay):\n",
    "        self.first = first\n",
    "        self.last = last\n",
    "        self.pay = pay\n",
    "        self.email = first +'.'+last+'@company.com'\n",
    "        \n",
    "        employee.num_of_emp += 1\n",
    "        \n",
    "    def full_name(self):\n",
    "        return '{} {}'.format(self.first,self.last)\n",
    "    \n",
    "    def apply_raise_without_class_var(self):\n",
    "        self.pay = int(self.pay*1.04)\n",
    "    \n",
    "    def apply_raise_with_class_var_class(self):\n",
    "        self.pay = int(self.pay* employee.raise_amount)\n",
    "        \n",
    "    def apply_raise_with_class_var_inst(self):\n",
    "        self.pay = int(self.pay* self.raise_amount)\n",
    "        \n",
    "    @classmethod\n",
    "    def set_raise_amt(cls,amount):\n",
    "        cls.raise_amount = amount\n",
    "        \n",
    "    @classmethod\n",
    "    def from_string(cls,emp_str):\n",
    "        first, last, pay = emp_str.split('-')\n",
    "        return cls(first,last,pay)\n",
    "    \n",
    "    @staticmethod\n",
    "    def is_workday(day):\n",
    "        if day.weekday() == 5 or day.weekday() == 6:\n",
    "            return False\n",
    "        return True\n",
    "        \n"
   ]
  },
  {
   "cell_type": "markdown",
   "id": "1d0c9a31",
   "metadata": {},
   "source": [
    "## Class Methods"
   ]
  },
  {
   "cell_type": "code",
   "execution_count": 116,
   "id": "a4d91b40",
   "metadata": {},
   "outputs": [],
   "source": [
    "# We need to instantiate the class\n",
    "\n",
    "emp_1 = employee('Miguel','Frutos',6000)\n",
    "emp_2 = employee('alfonso','maquina',2345)"
   ]
  },
  {
   "cell_type": "code",
   "execution_count": 117,
   "id": "f44de625",
   "metadata": {},
   "outputs": [
    {
     "name": "stdout",
     "output_type": "stream",
     "text": [
      "1.04\n",
      "1.04\n",
      "1.04\n"
     ]
    }
   ],
   "source": [
    "print(employee.raise_amount)\n",
    "print(emp_1.raise_amount)\n",
    "print(emp_2.raise_amount)"
   ]
  },
  {
   "cell_type": "code",
   "execution_count": 118,
   "id": "e264a791",
   "metadata": {},
   "outputs": [
    {
     "name": "stdout",
     "output_type": "stream",
     "text": [
      "1.05\n",
      "1.05\n",
      "1.05\n"
     ]
    }
   ],
   "source": [
    "# What if we want to change the class instance to 5%?.\n",
    "\n",
    "## We run the set_raise_amt method to change the value of the class.\n",
    "\n",
    "employee.set_raise_amt(1.05)\n",
    "\n",
    "print(employee.raise_amount)\n",
    "print(emp_1.raise_amount)\n",
    "print(emp_2.raise_amount)"
   ]
  },
  {
   "cell_type": "markdown",
   "id": "a50fa9b1",
   "metadata": {},
   "source": [
    "**CONCEPT**: As it is working from the class, we can not change individual instances inside the class... we can still call them, but it doesnt make sense as it will change all the instances instead of just one."
   ]
  },
  {
   "cell_type": "code",
   "execution_count": 121,
   "id": "26714115",
   "metadata": {},
   "outputs": [
    {
     "name": "stdout",
     "output_type": "stream",
     "text": [
      "1.1\n",
      "1.1\n",
      "1.1\n"
     ]
    }
   ],
   "source": [
    "emp_2.set_raise_amt(1.10)\n",
    "\n",
    "print(employee.raise_amount)\n",
    "print(emp_1.raise_amount)\n",
    "print(emp_2.raise_amount)"
   ]
  },
  {
   "cell_type": "markdown",
   "id": "5e46c26e",
   "metadata": {},
   "source": [
    "### Class Methods as Alternative Constructors\n",
    "Class methods to provide multiple ways of creating our objects"
   ]
  },
  {
   "cell_type": "markdown",
   "id": "8d7f266e",
   "metadata": {},
   "source": [
    "Imagine that we have to parse a string with values separeted with hyphens"
   ]
  },
  {
   "cell_type": "code",
   "execution_count": 123,
   "id": "91777e31",
   "metadata": {},
   "outputs": [],
   "source": [
    "# Incorrected string\n",
    "emp_str_1 = 'Miguel-Frutas-7000'\n",
    "emp_str_2 = 'Frutas-Miguel-23432'\n",
    "emp_str_3 = 'Bond-James-Bond-23543'\n",
    "\n",
    "# Parse the string\n",
    "first, last, pay = emp_str_1.split('-')\n",
    "\n",
    "# Creating a new employee object: Instantiate the class and creating the variable\n",
    "new_emp_1 = employee(first,last,pay)"
   ]
  },
  {
   "cell_type": "code",
   "execution_count": 126,
   "id": "8eb29444",
   "metadata": {},
   "outputs": [
    {
     "name": "stdout",
     "output_type": "stream",
     "text": [
      "Miguel.Frutas@company.com\n",
      "7000\n"
     ]
    }
   ],
   "source": [
    "print(new_emp_1.email)\n",
    "print(new_emp_1.pay)"
   ]
  },
  {
   "cell_type": "markdown",
   "id": "0e8d407b",
   "metadata": {},
   "source": [
    "**We dont want to be parsing everytime we have a new employee**\n",
    "\n",
    "**LET´S CREATE AN ALTERNATIVE CONSTRUCTOR**\n",
    "\n",
    "```\n",
    "    @classmethod\n",
    "    def from_string(cls,emp_str):\n",
    "        first, last, pay = emp_str.split('-')\n",
    "        return cls(first,last,pay)\n",
    "```\n",
    "\n",
    "- Alternative Constructors: \n",
    "    - We use the \"from\" by convention.\n",
    "    - Include the operation to be contruct.\n",
    "    - Add the cls to create the employee object ---> cls(first,last,pay) == employee(first,last,pay)\n",
    "    - Return the object"
   ]
  },
  {
   "cell_type": "code",
   "execution_count": 133,
   "id": "acb87941",
   "metadata": {},
   "outputs": [],
   "source": [
    "# # Creating a new employee object: Instantiate the class and creating the variable\n",
    "new_emp_1 = employee.from_string(emp_str_1)"
   ]
  },
  {
   "cell_type": "code",
   "execution_count": 134,
   "id": "315347f5",
   "metadata": {},
   "outputs": [
    {
     "name": "stdout",
     "output_type": "stream",
     "text": [
      "Miguel.Frutas@company.com\n",
      "7000\n"
     ]
    }
   ],
   "source": [
    "print(new_emp_1.email)\n",
    "print(new_emp_1.pay)"
   ]
  },
  {
   "cell_type": "markdown",
   "id": "65a414d2",
   "metadata": {},
   "source": [
    "## Static Methods"
   ]
  },
  {
   "cell_type": "markdown",
   "id": "5981e84d",
   "metadata": {},
   "source": [
    "Create a variable that returns if whether or not was that a working date. We take into account that in the library **datetime** day 5 and 6 are saturday and sunday and from 0-6 are labour days.\n",
    "\n",
    "````\n",
    "    @staticmethod\n",
    "    def is_workday(day):\n",
    "        if day.weekday() == 5 or day.weekday() == 6:\n",
    "            return False\n",
    "        return True\n",
    "````"
   ]
  },
  {
   "cell_type": "code",
   "execution_count": null,
   "id": "8a2d5a17",
   "metadata": {},
   "outputs": [],
   "source": []
  },
  {
   "cell_type": "code",
   "execution_count": 145,
   "id": "e18c2b63",
   "metadata": {},
   "outputs": [],
   "source": [
    "import datetime\n",
    "my_date_sunday = datetime.date(2016,7,10)\n",
    "my_date_monday = datetime.date(2016,7,11)"
   ]
  },
  {
   "cell_type": "code",
   "execution_count": 146,
   "id": "ea87cf47",
   "metadata": {},
   "outputs": [],
   "source": [
    "# We need to instantiate the class\n",
    "\n",
    "emp_1 = employee('Miguel','Frutos',6000)\n",
    "emp_2 = employee('alfonso','maquina',2345)"
   ]
  },
  {
   "cell_type": "code",
   "execution_count": 147,
   "id": "9e2ea356",
   "metadata": {},
   "outputs": [
    {
     "name": "stdout",
     "output_type": "stream",
     "text": [
      "False\n",
      "True\n"
     ]
    }
   ],
   "source": [
    "print(employee.is_workday(my_date_sunday))\n",
    "print(employee.is_workday(my_date_monday))"
   ]
  },
  {
   "cell_type": "markdown",
   "id": "2ec302d3",
   "metadata": {},
   "source": [
    "<a id=\"ch5\"></a>\n",
    "# Inheritance\n",
    "Allow us to inherit attributes and methods from a parent class, this is usefull to create subclasses and get all the functionality of our parent class.\n",
    "\n",
    "- We use the super().__init__() method to inherit the instances of the employee class"
   ]
  },
  {
   "cell_type": "code",
   "execution_count": 236,
   "id": "a0b70409",
   "metadata": {},
   "outputs": [],
   "source": [
    "class employee:\n",
    "    \n",
    "    num_of_emp = 0\n",
    "    raise_amount = 1.04\n",
    "    \n",
    "    def __init__(self,first,last,pay):\n",
    "        self.first = first\n",
    "        self.last = last\n",
    "        self.pay = pay\n",
    "        self.email = first +'.'+last+'@company.com'\n",
    "        \n",
    "        employee.num_of_emp += 1\n",
    "        \n",
    "    def full_name(self):\n",
    "        return '{} {}'.format(self.first,self.last)\n",
    "    \n",
    "    def apply_raise_without_class_var(self):\n",
    "        self.pay = int(self.pay*1.04)\n",
    "    \n",
    "    def apply_raise_with_class_var_class(self):\n",
    "        self.pay = int(self.pay* employee.raise_amount)\n",
    "        \n",
    "    def apply_raise_with_class_var_inst(self):\n",
    "        self.pay = int(self.pay* self.raise_amount)\n",
    "        \n",
    "    @classmethod\n",
    "    def set_raise_amt(cls,amount):\n",
    "        cls.raise_amount = amount\n",
    "        \n",
    "    @classmethod\n",
    "    def from_string(cls,emp_str):\n",
    "        first, last, pay = emp_str.split('-')\n",
    "        return cls(first,last,pay)\n",
    "    \n",
    "    @staticmethod\n",
    "    def is_workday(day):\n",
    "        if day.weekday() == 5 or day.weekday() == 6:\n",
    "            return False\n",
    "        return True\n",
    "    \n",
    "class developers(employee):\n",
    "    raise_amount = 2\n",
    "    \n",
    "    def __init__(self,first,last,pay,programming_language):\n",
    "        super().__init__(first,last,pay)\n",
    "        self.programming_language = programming_language\n",
    "        \n",
    "class managers(employee):\n",
    "    def __init__(self,first,last,pay,employees=None):\n",
    "        super().__init__(first,last,pay)\n",
    "        if employees is None:\n",
    "            self.employees = []\n",
    "        else:\n",
    "            self.employees = employees\n",
    "    \n",
    "    def add_emp(self,emp):\n",
    "        if emp not in self.employees:\n",
    "            self.employees.append(emp)\n",
    "    \n",
    "    def remove_emp(self,emp):\n",
    "        if emp in self.employees:\n",
    "            self.employees.remove(emp)\n",
    "        \n",
    "    def print_emps(self):\n",
    "        for emp in self.employees:\n",
    "            print('-->',emp.full_name())"
   ]
  },
  {
   "cell_type": "code",
   "execution_count": 170,
   "id": "b34ce5bb",
   "metadata": {},
   "outputs": [
    {
     "name": "stdout",
     "output_type": "stream",
     "text": [
      "Miguel.Frutos@company.com\n",
      "alfonso.maquina@company.com\n"
     ]
    }
   ],
   "source": [
    "# As we can see we are inheriting the class employee when we instantiate the developers class\n",
    "\n",
    "dev_1 = developers('Miguel','Frutos',6000,'python')\n",
    "dev_2 = developers('alfonso','maquina',2345,'java')\n",
    "\n",
    "print(dev_1.email)\n",
    "print(dev_2.email)"
   ]
  },
  {
   "cell_type": "code",
   "execution_count": 152,
   "id": "3596fd6d",
   "metadata": {},
   "outputs": [
    {
     "name": "stdout",
     "output_type": "stream",
     "text": [
      "Help on class developers in module __main__:\n",
      "\n",
      "class developers(employee)\n",
      " |  developers(first, last, pay)\n",
      " |  \n",
      " |  Method resolution order:\n",
      " |      developers\n",
      " |      employee\n",
      " |      builtins.object\n",
      " |  \n",
      " |  Methods inherited from employee:\n",
      " |  \n",
      " |  __init__(self, first, last, pay)\n",
      " |      Initialize self.  See help(type(self)) for accurate signature.\n",
      " |  \n",
      " |  apply_raise_with_class_var_class(self)\n",
      " |  \n",
      " |  apply_raise_with_class_var_inst(self)\n",
      " |  \n",
      " |  apply_raise_without_class_var(self)\n",
      " |  \n",
      " |  full_name(self)\n",
      " |  \n",
      " |  ----------------------------------------------------------------------\n",
      " |  Class methods inherited from employee:\n",
      " |  \n",
      " |  from_string(emp_str) from builtins.type\n",
      " |  \n",
      " |  set_raise_amt(amount) from builtins.type\n",
      " |  \n",
      " |  ----------------------------------------------------------------------\n",
      " |  Static methods inherited from employee:\n",
      " |  \n",
      " |  is_workday(day)\n",
      " |  \n",
      " |  ----------------------------------------------------------------------\n",
      " |  Data descriptors inherited from employee:\n",
      " |  \n",
      " |  __dict__\n",
      " |      dictionary for instance variables (if defined)\n",
      " |  \n",
      " |  __weakref__\n",
      " |      list of weak references to the object (if defined)\n",
      " |  \n",
      " |  ----------------------------------------------------------------------\n",
      " |  Data and other attributes inherited from employee:\n",
      " |  \n",
      " |  num_of_emp = 4\n",
      " |  \n",
      " |  raise_amount = 1.04\n",
      "\n",
      "None\n"
     ]
    }
   ],
   "source": [
    "# Check out the **Method Resolution Order**\n",
    "\n",
    "# - it first went to the developers class\n",
    "# - as it didnt find anything, it went after the employee\n",
    "# - every class in python inherit from this python object \"builtins.object\"\n",
    "\n",
    "print(help(developers))"
   ]
  },
  {
   "cell_type": "code",
   "execution_count": 165,
   "id": "8f1d755e",
   "metadata": {},
   "outputs": [
    {
     "name": "stdout",
     "output_type": "stream",
     "text": [
      "6000\n",
      "6240\n"
     ]
    }
   ],
   "source": [
    "# We have included a *2 raise_amount for developers\n",
    "\n",
    "## But if we apply it throw a class variable, it doesnt change \n",
    "## because it is inheriting the variable inside the class employee\n",
    "\n",
    "print(dev_1.pay)\n",
    "dev_1.apply_raise_with_class_var_class()\n",
    "print(dev_1.pay)"
   ]
  },
  {
   "cell_type": "code",
   "execution_count": 167,
   "id": "a1e95055",
   "metadata": {},
   "outputs": [
    {
     "name": "stdout",
     "output_type": "stream",
     "text": [
      "6240\n",
      "12480\n"
     ]
    }
   ],
   "source": [
    "## we have to use the instance variable inside the employee class to apply the subclass variable\n",
    "\n",
    "print(dev_1.pay)\n",
    "dev_1.apply_raise_with_class_var_inst()\n",
    "print(dev_1.pay)"
   ]
  },
  {
   "cell_type": "code",
   "execution_count": 184,
   "id": "ac59d71f",
   "metadata": {},
   "outputs": [
    {
     "name": "stdout",
     "output_type": "stream",
     "text": [
      "python\n",
      "java\n"
     ]
    }
   ],
   "source": [
    "# As we can see we are inheriting the class employee when we instantiate the developers class\n",
    "\n",
    "dev_1 = developers('Miguel','Frutos',6000,'python')\n",
    "dev_2 = developers('alfonso','maquina',2345,'java')\n",
    "\n",
    "print(dev_1.programming_language)\n",
    "print(dev_2.programming_language)"
   ]
  },
  {
   "cell_type": "code",
   "execution_count": 203,
   "id": "630f0821",
   "metadata": {},
   "outputs": [
    {
     "name": "stdout",
     "output_type": "stream",
     "text": [
      "Craig.Frutos@company.com\n",
      "pringao.maquina@company.com\n"
     ]
    }
   ],
   "source": [
    "# The manager class will now have what we specifically requiered in a manager\n",
    "\n",
    "mgr_1 = managers('Craig','Frutos',16000,[dev_1,dev_2])\n",
    "mgr_2 = managers('pringao','maquina',122345,[dev_2])\n",
    "\n",
    "print(mgr_1.email)\n",
    "print(mgr_2.email)"
   ]
  },
  {
   "cell_type": "code",
   "execution_count": 205,
   "id": "b8011a5d",
   "metadata": {},
   "outputs": [
    {
     "name": "stdout",
     "output_type": "stream",
     "text": [
      "--> Miguel Frutos\n",
      "--> alfonso maquina\n"
     ]
    }
   ],
   "source": [
    "# Printing the number of employees that the manager_1 has\n",
    "\n",
    "mgr_1.print_emps()"
   ]
  },
  {
   "cell_type": "code",
   "execution_count": 195,
   "id": "afb27d81",
   "metadata": {},
   "outputs": [
    {
     "name": "stdout",
     "output_type": "stream",
     "text": [
      "['dev_1']\n",
      "[]\n"
     ]
    }
   ],
   "source": [
    "# Removing the first employee in the manager_1\n",
    "\n",
    "mgr_1 = managers('Craig','Frutos',16000,['dev_1'])\n",
    "print(mgr_1.employees)\n",
    "mgr_1.remove_emp('dev_1')\n",
    "print(mgr_1.employees)"
   ]
  },
  {
   "cell_type": "code",
   "execution_count": 212,
   "id": "fd35d97e",
   "metadata": {},
   "outputs": [
    {
     "name": "stdout",
     "output_type": "stream",
     "text": [
      "True\n",
      "False\n"
     ]
    }
   ],
   "source": [
    "# we can check if the instance is part of a class\n",
    "\n",
    "print(isinstance(mgr_1,managers))\n",
    "print(isinstance(mgr_1,developers))"
   ]
  },
  {
   "cell_type": "code",
   "execution_count": 213,
   "id": "afe9e5b6",
   "metadata": {},
   "outputs": [
    {
     "name": "stdout",
     "output_type": "stream",
     "text": [
      "True\n",
      "False\n"
     ]
    }
   ],
   "source": [
    "# we can check if a class is a subclass of another\n",
    "\n",
    "print(issubclass(developers,employee))\n",
    "print(issubclass(developers,managers))"
   ]
  },
  {
   "cell_type": "markdown",
   "id": "2de9196d",
   "metadata": {},
   "source": [
    "<a id=\"ch6\"></a>\n",
    "# Magic/Dunder Methods"
   ]
  },
  {
   "cell_type": "markdown",
   "id": "c39cac64",
   "metadata": {},
   "source": [
    "__init__: Creates the attributes for our employee object.\n",
    "````\n",
    "    def __init__(self,first,last,pay):\n",
    "        self.first = first\n",
    "        self.last = last\n",
    "        self.pay = pay\n",
    "        self.email = first +'.'+last+'@company.com'\n",
    "        \n",
    "        employee.num_of_emp += 1\n",
    "`````\n",
    "`````\n",
    "    emp_1 = employee('Miguel','Frutos',6000)\n",
    "`````\n",
    "__repr__(self): Ambiguos representation of the employee object. Used for debugging and logging. We should use it with the objective of recreating that same object. For example with a string.\n",
    "\n",
    "`````\n",
    "    def __repr__(self):\n",
    "        return \"employee('{}','{}',{})\".format(self.first,self.last,self.pay)\n",
    "`````\n",
    "\n",
    "__str__(self): Readable representation of an object. A display to the end-user\n",
    "\n",
    "`````\n",
    "    def __str__(self):\n",
    "        return '{} - {}'.format(self.full_name(),self.email)\n",
    "`````\n",
    "\n",
    "__add__(self): Used for arithmetic. To change a python standard logic when adding two string (concatenation) or adding two numbers (sum).\n",
    "\n",
    "`````\n",
    "    def __add__(self,other):\n",
    "        return self.pay + other.pay\n",
    "`````\n",
    "\n",
    "__len__(self):Used for arithmetic. To change how we use the len function.\n",
    "`````\n",
    "    def __len__(self):\n",
    "        return len(self.full_name())\n",
    "`````\n",
    "\n",
    "Many more in the [documentation](https://docs.python.org/3/reference/datamodel.html#object.__iter__)"
   ]
  },
  {
   "cell_type": "code",
   "execution_count": 261,
   "id": "2304e53f",
   "metadata": {},
   "outputs": [],
   "source": [
    "class employee:\n",
    "    \n",
    "    num_of_emp = 0\n",
    "    raise_amount = 1.04\n",
    "    \n",
    "    def __init__(self,first,last,pay):\n",
    "        self.first = first\n",
    "        self.last = last\n",
    "        self.pay = pay\n",
    "        self.email = first +'.'+last+'@company.com'\n",
    "        \n",
    "        employee.num_of_emp += 1\n",
    "    \n",
    "    def __repr__(self):\n",
    "        return \"employee('{}','{}',{})\".format(self.first,self.last,self.pay)\n",
    "\n",
    "    def __str__(self):\n",
    "        return '{} - {}'.format(self.full_name(),self.email)\n",
    "        \n",
    "    def __add__(self,other):\n",
    "        return self.pay + other.pay\n",
    "    \n",
    "    def __len__(self):\n",
    "        return len(self.full_name())\n",
    "    \n",
    "    def full_name(self):\n",
    "        return '{} {}'.format(self.first,self.last)\n",
    "    \n",
    "    def apply_raise_without_class_var(self):\n",
    "        self.pay = int(self.pay*1.04)\n",
    "    \n",
    "    def apply_raise_with_class_var_class(self):\n",
    "        self.pay = int(self.pay* employee.raise_amount)\n",
    "        \n",
    "    def apply_raise_with_class_var_inst(self):\n",
    "        self.pay = int(self.pay* self.raise_amount)\n",
    "        \n",
    "    @classmethod\n",
    "    def set_raise_amt(cls,amount):\n",
    "        cls.raise_amount = amount\n",
    "        \n",
    "    @classmethod\n",
    "    def from_string(cls,emp_str):\n",
    "        first, last, pay = emp_str.split('-')\n",
    "        return cls(first,last,pay)\n",
    "    \n",
    "    @staticmethod\n",
    "    def is_workday(day):\n",
    "        if day.weekday() == 5 or day.weekday() == 6:\n",
    "            return False\n",
    "        return True\n",
    "    \n",
    "class developers(employee):\n",
    "    raise_amount = 2\n",
    "    \n",
    "    def __init__(self,first,last,pay,programming_language):\n",
    "        super().__init__(first,last,pay)\n",
    "        self.programming_language = programming_language\n",
    "        \n",
    "class managers(employee):\n",
    "    def __init__(self,first,last,pay,employees=None):\n",
    "        super().__init__(first,last,pay)\n",
    "        if employees is None:\n",
    "            self.employees = []\n",
    "        else:\n",
    "            self.employees = employees\n",
    "    \n",
    "    def add_emp(self,emp):\n",
    "        if emp not in self.employees:\n",
    "            self.employees.append(emp)\n",
    "    \n",
    "    def remove_emp(self,emp):\n",
    "        if emp in self.employees:\n",
    "            self.employees.remove(emp)\n",
    "        \n",
    "    def print_emps(self):\n",
    "        for emp in self.employees:\n",
    "            print('-->',emp.full_name())\n",
    "\n"
   ]
  },
  {
   "cell_type": "markdown",
   "id": "7ead1780",
   "metadata": {},
   "source": [
    "#### __repr__"
   ]
  },
  {
   "cell_type": "code",
   "execution_count": 237,
   "id": "23f16636",
   "metadata": {},
   "outputs": [
    {
     "name": "stdout",
     "output_type": "stream",
     "text": [
      "<__main__.employee object at 0x7fccbe918910>\n",
      "<__main__.employee object at 0x7fccbe918220>\n"
     ]
    }
   ],
   "source": [
    "# Before runing the above snippet, if we run the emp_1 object it doesnt tell us much\n",
    "\n",
    "emp_1 = employee('Miguel','Frutos',6000)\n",
    "emp_2 = employee('alfonso','maquina',2345)\n",
    "\n",
    "print(emp_1)\n",
    "print(emp_2)"
   ]
  },
  {
   "cell_type": "code",
   "execution_count": 246,
   "id": "ff60cd1f",
   "metadata": {},
   "outputs": [
    {
     "name": "stdout",
     "output_type": "stream",
     "text": [
      "Miguel Frutos - Miguel.Frutos@company.com\n",
      "alfonso maquina - alfonso.maquina@company.com\n"
     ]
    }
   ],
   "source": [
    "# As we have include the __repre__ dunder method, it recreates the employee object.\n",
    "\n",
    "emp_1 = employee('Miguel','Frutos',6000)\n",
    "emp_2 = employee('alfonso','maquina',2345)\n",
    "\n",
    "print(emp_1)\n",
    "print(emp_2)"
   ]
  },
  {
   "cell_type": "code",
   "execution_count": 247,
   "id": "107d2eaf",
   "metadata": {},
   "outputs": [
    {
     "name": "stdout",
     "output_type": "stream",
     "text": [
      "employee('Miguel','Frutos',6000)\n"
     ]
    }
   ],
   "source": [
    "# We can access indivudually to this object \n",
    "\n",
    "print(repr(emp_1))"
   ]
  },
  {
   "cell_type": "markdown",
   "id": "259fbd8c",
   "metadata": {},
   "source": [
    "#### __str__"
   ]
  },
  {
   "cell_type": "code",
   "execution_count": 248,
   "id": "84a7c854",
   "metadata": {},
   "outputs": [
    {
     "name": "stdout",
     "output_type": "stream",
     "text": [
      "alfonso maquina - alfonso.maquina@company.com\n"
     ]
    }
   ],
   "source": [
    "# As we have include the __str__ dunder method, it creates a readable representation of the object\n",
    "# We can access indivudually to this object \n",
    "\n",
    "print(str(emp_2))"
   ]
  },
  {
   "cell_type": "code",
   "execution_count": 249,
   "id": "46e72675",
   "metadata": {},
   "outputs": [
    {
     "name": "stdout",
     "output_type": "stream",
     "text": [
      "employee('Miguel','Frutos',6000)\n",
      "Miguel Frutos - Miguel.Frutos@company.com\n"
     ]
    }
   ],
   "source": [
    "# Other way to access them\n",
    "\n",
    "print(emp_1.__repr__())\n",
    "print(emp_1.__str__())"
   ]
  },
  {
   "cell_type": "markdown",
   "id": "41b2064d",
   "metadata": {},
   "source": [
    "#### __add__"
   ]
  },
  {
   "cell_type": "code",
   "execution_count": 252,
   "id": "17045287",
   "metadata": {},
   "outputs": [
    {
     "name": "stdout",
     "output_type": "stream",
     "text": [
      "3\n",
      "3\n",
      "ab\n",
      "ab\n"
     ]
    }
   ],
   "source": [
    "# The python inner logic of 1+2 and a+b is represented as this\n",
    "\n",
    "print(1+2)\n",
    "print(int.__add__(1,2))\n",
    "\n",
    "print('a'+'b')\n",
    "print(str.__add__('a','b'))"
   ]
  },
  {
   "cell_type": "code",
   "execution_count": 255,
   "id": "6c02c4ec",
   "metadata": {},
   "outputs": [
    {
     "name": "stdout",
     "output_type": "stream",
     "text": [
      "8345\n"
     ]
    }
   ],
   "source": [
    "# Imagine that we want calculate total salaries by adding employees together\n",
    "\n",
    "emp_1 = employee('Miguel','Frutos',6000)\n",
    "emp_2 = employee('alfonso','maquina',2345)\n",
    "\n",
    "print(emp_1+emp_2)"
   ]
  },
  {
   "cell_type": "markdown",
   "id": "53978e9e",
   "metadata": {},
   "source": [
    "#### __len__"
   ]
  },
  {
   "cell_type": "code",
   "execution_count": 258,
   "id": "ae99b5b6",
   "metadata": {},
   "outputs": [
    {
     "name": "stdout",
     "output_type": "stream",
     "text": [
      "4\n",
      "4\n"
     ]
    }
   ],
   "source": [
    "# The python inner logic \n",
    "print(len('test'))\n",
    "print('test'.__len__())"
   ]
  },
  {
   "cell_type": "code",
   "execution_count": 260,
   "id": "d98f1025",
   "metadata": {},
   "outputs": [
    {
     "name": "stdout",
     "output_type": "stream",
     "text": [
      "15\n"
     ]
    }
   ],
   "source": [
    "# Imagine that we need to retreive the total number of characters of a employee´s full name\n",
    "\n",
    "emp_1 = employee('Miguel','Frutos',6000)\n",
    "emp_2 = employee('alfonso','maquina',2345)\n",
    "\n",
    "print(len(emp_2))\n"
   ]
  },
  {
   "cell_type": "markdown",
   "id": "f5bdb21c",
   "metadata": {},
   "source": [
    "<a id=\"ch7\"></a>\n",
    "# Property Decorators - Getters, Setters, and Deleters"
   ]
  },
  {
   "cell_type": "markdown",
   "id": "cb8ac2c7",
   "metadata": {},
   "source": [
    "**Property Decorators**: Enables accesing to a method as it was an attribute, this is import when we need to make several changes over one variable. Reminder, method() with parenthesis and attribute without parenthesis."
   ]
  },
  {
   "cell_type": "code",
   "execution_count": 278,
   "id": "9acc37e2",
   "metadata": {},
   "outputs": [],
   "source": [
    "class employee:\n",
    "    \n",
    "    num_of_emp = 0\n",
    "    raise_amount = 1.04\n",
    "    \n",
    "    def __init__(self,first,last,pay):\n",
    "        self.first = first\n",
    "        self.last = last\n",
    "        self.pay = pay\n",
    "        #self.email = first +'.'+last+'@company.com'\n",
    "        \n",
    "        employee.num_of_emp += 1\n",
    "    \n",
    "    def __repr__(self):\n",
    "        return \"employee('{}','{}',{})\".format(self.first,self.last,self.pay)\n",
    "\n",
    "    def __str__(self):\n",
    "        return '{} - {}'.format(self.full_name(),self.email)\n",
    "        \n",
    "    def __add__(self,other):\n",
    "        return self.pay + other.pay\n",
    "    \n",
    "    def __len__(self):\n",
    "        return len(self.full_name())\n",
    "    \n",
    "    @property\n",
    "    def email(self):\n",
    "        return '{}.{}email.com'.format(self.first,self.last)\n",
    "    \n",
    "    \n",
    "    def full_name(self):\n",
    "        return '{} {}'.format(self.first,self.last)\n",
    "    \n",
    "    def apply_raise_without_class_var(self):\n",
    "        self.pay = int(self.pay*1.04)\n",
    "    \n",
    "    def apply_raise_with_class_var_class(self):\n",
    "        self.pay = int(self.pay* employee.raise_amount)\n",
    "        \n",
    "    def apply_raise_with_class_var_inst(self):\n",
    "        self.pay = int(self.pay* self.raise_amount)\n",
    "        \n",
    "    @classmethod\n",
    "    def set_raise_amt(cls,amount):\n",
    "        cls.raise_amount = amount\n",
    "        \n",
    "    @classmethod\n",
    "    def from_string(cls,emp_str):\n",
    "        first, last, pay = emp_str.split('-')\n",
    "        return cls(first,last,pay)\n",
    "    \n",
    "    @staticmethod\n",
    "    def is_workday(day):\n",
    "        if day.weekday() == 5 or day.weekday() == 6:\n",
    "            return False\n",
    "        return True\n",
    "    \n",
    "class developers(employee):\n",
    "    raise_amount = 2\n",
    "    \n",
    "    def __init__(self,first,last,pay,programming_language):\n",
    "        super().__init__(first,last,pay)\n",
    "        self.programming_language = programming_language\n",
    "        \n",
    "class managers(employee):\n",
    "    def __init__(self,first,last,pay,employees=None):\n",
    "        super().__init__(first,last,pay)\n",
    "        if employees is None:\n",
    "            self.employees = []\n",
    "        else:\n",
    "            self.employees = employees\n",
    "    \n",
    "    def add_emp(self,emp):\n",
    "        if emp not in self.employees:\n",
    "            self.employees.append(emp)\n",
    "    \n",
    "    def remove_emp(self,emp):\n",
    "        if emp in self.employees:\n",
    "            self.employees.remove(emp)\n",
    "        \n",
    "    def print_emps(self):\n",
    "        for emp in self.employees:\n",
    "            print('-->',emp.full_name())"
   ]
  },
  {
   "cell_type": "code",
   "execution_count": 274,
   "id": "c3160281",
   "metadata": {},
   "outputs": [
    {
     "name": "stdout",
     "output_type": "stream",
     "text": [
      "Miguel\n",
      "Miguel.Frutosemail.com\n",
      "Miguel Frutos\n"
     ]
    }
   ],
   "source": [
    "# Before runing the above snippet, if we run the emp_1 and the attributes it has..\n",
    "\n",
    "emp_1 = employee('Miguel','Frutos',6000)\n",
    "emp_2 = employee('alfonso','maquina',2345)\n",
    "\n",
    "print(emp_1.first)\n",
    "print(emp_1.email)\n",
    "print(emp_1.full_name())"
   ]
  },
  {
   "cell_type": "code",
   "execution_count": 279,
   "id": "ad054c4b",
   "metadata": {},
   "outputs": [
    {
     "name": "stdout",
     "output_type": "stream",
     "text": [
      "Pedro\n",
      "Pedro.Frutosemail.com\n",
      "Pedro Frutos\n"
     ]
    }
   ],
   "source": [
    "# but what if emp_1 is now \"Pedro\"\n",
    "\n",
    "emp_1.first = 'Pedro'\n",
    "\n",
    "print(emp_1.first)\n",
    "print(emp_1.email)\n",
    "print(emp_1.full_name())"
   ]
  },
  {
   "cell_type": "markdown",
   "id": "28a813d9",
   "metadata": {},
   "source": [
    "The email is not changing...a solution could be to pop out the \".email\" attribute and include it as a new function, just as \"full_name\".... but this will alter every piece of code in which the \".email\" attribute was include.\n",
    "\n",
    "**THE SOLUTION... THE @PROPERTY DECORATOR\"**\n",
    "\n",
    "With that.. we can run it as an attribute but it will change as a method."
   ]
  },
  {
   "cell_type": "code",
   "execution_count": 277,
   "id": "2d5cccef",
   "metadata": {},
   "outputs": [
    {
     "name": "stdout",
     "output_type": "stream",
     "text": [
      "Pedro\n",
      "Pedro.Frutosemail.com\n",
      "Pedro Frutos\n"
     ]
    }
   ],
   "source": [
    "# but what if emp_1 is now \"Pedro\"\n",
    "\n",
    "emp_1.first = 'Pedro'\n",
    "\n",
    "print(emp_1.first)\n",
    "print(emp_1.email)\n",
    "print(emp_1.full_name())"
   ]
  },
  {
   "cell_type": "markdown",
   "id": "7e4f2a9b",
   "metadata": {},
   "source": [
    "### Setter"
   ]
  },
  {
   "cell_type": "code",
   "execution_count": 280,
   "id": "22fe61ba",
   "metadata": {},
   "outputs": [
    {
     "ename": "AttributeError",
     "evalue": "can't set attribute",
     "output_type": "error",
     "traceback": [
      "\u001b[0;31m---------------------------------------------------------------------------\u001b[0m",
      "\u001b[0;31mAttributeError\u001b[0m                            Traceback (most recent call last)",
      "Input \u001b[0;32mIn [280]\u001b[0m, in \u001b[0;36m<cell line: 3>\u001b[0;34m()\u001b[0m\n\u001b[1;32m      1\u001b[0m \u001b[38;5;66;03m# Now we cannot change only the email\u001b[39;00m\n\u001b[0;32m----> 3\u001b[0m emp_1\u001b[38;5;241m.\u001b[39memail \u001b[38;5;241m=\u001b[39m \u001b[38;5;124m'\u001b[39m\u001b[38;5;124mCapitan.America@company.com\u001b[39m\u001b[38;5;124m'\u001b[39m\n",
      "\u001b[0;31mAttributeError\u001b[0m: can't set attribute"
     ]
    }
   ],
   "source": [
    "# Now we cannot change the email because it cant set the attribute to the other instances\n",
    "\n",
    "emp_1.email = 'Capitan.America@company.com'"
   ]
  },
  {
   "cell_type": "markdown",
   "id": "24e5f2f5",
   "metadata": {},
   "source": [
    "**setter**: Will enable to build-in from one variable change, other variables."
   ]
  },
  {
   "cell_type": "code",
   "execution_count": 296,
   "id": "024c336b",
   "metadata": {},
   "outputs": [],
   "source": [
    "class employee:\n",
    "    \n",
    "    num_of_emp = 0\n",
    "    raise_amount = 1.04\n",
    "    \n",
    "    def __init__(self,first,last,pay):\n",
    "        self.first = first\n",
    "        self.last = last\n",
    "        self.pay = pay\n",
    "        #self.email = first +'.'+last+'@company.com'\n",
    "        \n",
    "        employee.num_of_emp += 1\n",
    "    \n",
    "    def __repr__(self):\n",
    "        return \"employee('{}','{}',{})\".format(self.first,self.last,self.pay)\n",
    "\n",
    "    def __str__(self):\n",
    "        return '{} - {}'.format(self.full_name(),self.email)\n",
    "        \n",
    "    def __add__(self,other):\n",
    "        return self.pay + other.pay\n",
    "    \n",
    "    def __len__(self):\n",
    "        return len(self.full_name())\n",
    "    \n",
    "    @property\n",
    "    def email(self):\n",
    "        return '{}.{}email.com'.format(self.first,self.last)\n",
    "    \n",
    "    @email.setter\n",
    "    def email(self,name):\n",
    "        first,other = name.split('.',1)\n",
    "        last,other = other.split('@')\n",
    "        self.first = first\n",
    "        self.last = last\n",
    "    \n",
    "    @email.deleter\n",
    "    def email(self):\n",
    "        print(\"Delete Name!\")\n",
    "        self.first = None\n",
    "        self.last = None \n",
    "    \n",
    "    def full_name(self):\n",
    "        return '{} {}'.format(self.first,self.last)\n",
    "    \n",
    "    def apply_raise_without_class_var(self):\n",
    "        self.pay = int(self.pay*1.04)\n",
    "    \n",
    "    def apply_raise_with_class_var_class(self):\n",
    "        self.pay = int(self.pay* employee.raise_amount)\n",
    "        \n",
    "    def apply_raise_with_class_var_inst(self):\n",
    "        self.pay = int(self.pay* self.raise_amount)\n",
    "        \n",
    "    @classmethod\n",
    "    def set_raise_amt(cls,amount):\n",
    "        cls.raise_amount = amount\n",
    "        \n",
    "    @classmethod\n",
    "    def from_string(cls,emp_str):\n",
    "        first, last, pay = emp_str.split('-')\n",
    "        return cls(first,last,pay)\n",
    "    \n",
    "    @staticmethod\n",
    "    def is_workday(day):\n",
    "        if day.weekday() == 5 or day.weekday() == 6:\n",
    "            return False\n",
    "        return True\n",
    "    \n",
    "class developers(employee):\n",
    "    raise_amount = 2\n",
    "    \n",
    "    def __init__(self,first,last,pay,programming_language):\n",
    "        super().__init__(first,last,pay)\n",
    "        self.programming_language = programming_language\n",
    "        \n",
    "class managers(employee):\n",
    "    def __init__(self,first,last,pay,employees=None):\n",
    "        super().__init__(first,last,pay)\n",
    "        if employees is None:\n",
    "            self.employees = []\n",
    "        else:\n",
    "            self.employees = employees\n",
    "    \n",
    "    def add_emp(self,emp):\n",
    "        if emp not in self.employees:\n",
    "            self.employees.append(emp)\n",
    "    \n",
    "    def remove_emp(self,emp):\n",
    "        if emp in self.employees:\n",
    "            self.employees.remove(emp)\n",
    "        \n",
    "    def print_emps(self):\n",
    "        for emp in self.employees:\n",
    "            print('-->',emp.full_name())"
   ]
  },
  {
   "cell_type": "code",
   "execution_count": 297,
   "id": "b8e2ad2a",
   "metadata": {},
   "outputs": [],
   "source": [
    "# But with setter we can breakdown from the email, the other pieces.\n",
    "\n",
    "emp_1 = employee('Miguel','Frutos',6000)\n",
    "emp_2 = employee('alfonso','maquina',2345)\n",
    "\n",
    "emp_1.email = 'Capitan.America@company.com'"
   ]
  },
  {
   "cell_type": "markdown",
   "id": "cca38b36",
   "metadata": {},
   "source": [
    "### Deleter"
   ]
  },
  {
   "cell_type": "markdown",
   "id": "e30fc1fd",
   "metadata": {},
   "source": [
    "**Deleter**: When ever we delete an attribute, we establish a process"
   ]
  },
  {
   "cell_type": "code",
   "execution_count": 298,
   "id": "a303ece0",
   "metadata": {},
   "outputs": [
    {
     "name": "stdout",
     "output_type": "stream",
     "text": [
      "Delete Name!\n"
     ]
    }
   ],
   "source": [
    "del emp_1.email"
   ]
  }
 ],
 "metadata": {
  "kernelspec": {
   "display_name": "Python 3.8.2 64-bit",
   "language": "python",
   "name": "python3"
  },
  "language_info": {
   "codemirror_mode": {
    "name": "ipython",
    "version": 3
   },
   "file_extension": ".py",
   "mimetype": "text/x-python",
   "name": "python",
   "nbconvert_exporter": "python",
   "pygments_lexer": "ipython3",
   "version": "3.8.2"
  },
  "vscode": {
   "interpreter": {
    "hash": "31f2aee4e71d21fbe5cf8b01ff0e069b9275f58929596ceb00d14d90e3e16cd6"
   }
  }
 },
 "nbformat": 4,
 "nbformat_minor": 5
}
